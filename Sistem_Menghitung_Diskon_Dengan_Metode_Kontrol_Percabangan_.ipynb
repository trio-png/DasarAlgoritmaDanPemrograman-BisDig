{
  "nbformat": 4,
  "nbformat_minor": 0,
  "metadata": {
    "colab": {
      "provenance": [],
      "authorship_tag": "ABX9TyPCz7Pj55qml+N2biEhM3F2",
      "include_colab_link": true
    },
    "kernelspec": {
      "name": "python3",
      "display_name": "Python 3"
    },
    "language_info": {
      "name": "python"
    }
  },
  "cells": [
    {
      "cell_type": "markdown",
      "metadata": {
        "id": "view-in-github",
        "colab_type": "text"
      },
      "source": [
        "<a href=\"https://colab.research.google.com/github/trio-png/DasarAlgoritmaDanPemrograman-BisDig/blob/main/Sistem_Menghitung_Diskon_Dengan_Metode_Kontrol_Percabangan_.ipynb\" target=\"_parent\"><img src=\"https://colab.research.google.com/assets/colab-badge.svg\" alt=\"Open In Colab\"/></a>"
      ]
    },
    {
      "cell_type": "code",
      "execution_count": 1,
      "metadata": {
        "colab": {
          "base_uri": "https://localhost:8080/"
        },
        "id": "OZpMJWFA9oOd",
        "outputId": "755f9fe6-fff9-445b-a442-39a2d4eec788"
      },
      "outputs": [
        {
          "output_type": "stream",
          "name": "stdout",
          "text": [
            "Masukkan harga satuan: 1000000\n",
            "Masukkan jumlah barang: 2\n",
            "Total bayar setelah diskon (jika berlaku): Rp 1,800,000.00\n"
          ]
        }
      ],
      "source": [
        "def hitung_total_bayar(harga, jumlah):\n",
        "    total = harga * jumlah\n",
        "    if total >= 500000:\n",
        "        diskon = total * 0.10\n",
        "        total_bayar = total - diskon\n",
        "    else:\n",
        "        total_bayar = total\n",
        "    return total_bayar\n",
        "\n",
        "def main():\n",
        "    harga = float(input(\"Masukkan harga satuan: \"))\n",
        "    jumlah = int(input(\"Masukkan jumlah barang: \"))\n",
        "    total_bayar = hitung_total_bayar(harga, jumlah)\n",
        "    print(f\"Total bayar setelah diskon (jika berlaku): Rp {total_bayar:,.2f}\")\n",
        "\n",
        "if __name__ == \"__main__\":\n",
        "    main()"
      ]
    }
  ]
}
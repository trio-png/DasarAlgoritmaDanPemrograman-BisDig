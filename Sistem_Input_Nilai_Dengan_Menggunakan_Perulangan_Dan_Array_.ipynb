{
  "nbformat": 4,
  "nbformat_minor": 0,
  "metadata": {
    "colab": {
      "provenance": [],
      "authorship_tag": "ABX9TyM5ERsRuDYWy18KnfZG7RWl",
      "include_colab_link": true
    },
    "kernelspec": {
      "name": "python3",
      "display_name": "Python 3"
    },
    "language_info": {
      "name": "python"
    }
  },
  "cells": [
    {
      "cell_type": "markdown",
      "metadata": {
        "id": "view-in-github",
        "colab_type": "text"
      },
      "source": [
        "<a href=\"https://colab.research.google.com/github/trio-png/DasarAlgoritmaDanPemrograman-BisDig/blob/main/Sistem_Input_Nilai_Dengan_Menggunakan_Perulangan_Dan_Array_.ipynb\" target=\"_parent\"><img src=\"https://colab.research.google.com/assets/colab-badge.svg\" alt=\"Open In Colab\"/></a>"
      ]
    },
    {
      "cell_type": "code",
      "execution_count": 1,
      "metadata": {
        "colab": {
          "base_uri": "https://localhost:8080/"
        },
        "id": "__na7tEP8ug4",
        "outputId": "db79067a-c64d-4c5c-f77b-688ab0996266"
      },
      "outputs": [
        {
          "output_type": "stream",
          "name": "stdout",
          "text": [
            "Masukkan jumlah siswa: 4\n",
            "Masukkan nilai siswa ke-1: 78\n",
            "Masukkan nilai siswa ke-2: 87\n",
            "Masukkan nilai siswa ke-3: 97\n",
            "Masukkan nilai siswa ke-4: 99\n",
            "Nilai tertinggi adalah 99.0 dan siswa ke-4 yang terbesar.\n"
          ]
        }
      ],
      "source": [
        "# Fungsi untuk menerima input nilai siswa\n",
        "def input_nilai():\n",
        "    nilai = []\n",
        "    jumlah_siswa = int(input(\"Masukkan jumlah siswa: \"))\n",
        "\n",
        "    for i in range(jumlah_siswa):\n",
        "        nilai_siswa = float(input(f\"Masukkan nilai siswa ke-{i + 1}: \"))\n",
        "        nilai.append(nilai_siswa)\n",
        "\n",
        "    return nilai\n",
        "\n",
        "# Fungsi untuk mencari nilai tertinggi dan indeksnya\n",
        "def nilai_tertinggi(nilai):\n",
        "    if not nilai:\n",
        "        return None, None  # Menghindari error jika list kosong\n",
        "\n",
        "    tertinggi = max(nilai)\n",
        "    indeks = nilai.index(tertinggi) + 1  # Menambahkan 1 untuk indeks siswa (dimulai dari 1)\n",
        "\n",
        "    return tertinggi, indeks\n",
        "\n",
        "# Main program\n",
        "nilai_siswa = input_nilai()\n",
        "tertinggi, indeks = nilai_tertinggi(nilai_siswa)\n",
        "\n",
        "if tertinggi is not None:\n",
        "    print(f\"Nilai tertinggi adalah {tertinggi} dan siswa ke-{indeks} yang terbesar.\")\n",
        "else:\n",
        "    print(\"Tidak ada nilai yang dimasukkan.\")"
      ]
    }
  ]
}
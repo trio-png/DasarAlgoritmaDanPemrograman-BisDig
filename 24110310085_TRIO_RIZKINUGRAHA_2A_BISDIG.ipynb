{
  "nbformat": 4,
  "nbformat_minor": 0,
  "metadata": {
    "colab": {
      "provenance": [],
      "authorship_tag": "ABX9TyM2B1yILak8aAeI6g919iHL",
      "include_colab_link": true
    },
    "kernelspec": {
      "name": "python3",
      "display_name": "Python 3"
    },
    "language_info": {
      "name": "python"
    }
  },
  "cells": [
    {
      "cell_type": "markdown",
      "metadata": {
        "id": "view-in-github",
        "colab_type": "text"
      },
      "source": [
        "<a href=\"https://colab.research.google.com/github/trio-png/DasarAlgoritmaDanPemrograman-BisDig/blob/main/24110310085_TRIO_RIZKINUGRAHA_2A_BISDIG.ipynb\" target=\"_parent\"><img src=\"https://colab.research.google.com/assets/colab-badge.svg\" alt=\"Open In Colab\"/></a>"
      ]
    },
    {
      "cell_type": "markdown",
      "source": [
        "Membuat fungsi untuk menghitung faktorial dari suatu bilangan menggunakan metode rekursif."
      ],
      "metadata": {
        "id": "8_zfClmi8Tmh"
      }
    },
    {
      "cell_type": "code",
      "execution_count": 5,
      "metadata": {
        "colab": {
          "base_uri": "https://localhost:8080/"
        },
        "id": "kID-vCro8PaE",
        "outputId": "cb4621e8-3382-41f8-f214-f5ef097f8c43"
      },
      "outputs": [
        {
          "output_type": "stream",
          "name": "stdout",
          "text": [
            "Masukkan angka untuk menghitung faktorial: 5\n",
            "Faktorial dari 5 adalah 120.\n"
          ]
        }
      ],
      "source": [
        "def faktorial(n):\n",
        "    # Basis kasus: faktorial dari 0 atau 1 adalah 1\n",
        "    if n == 0 or n == 1:\n",
        "        return 1\n",
        "    else:\n",
        "        # Rekursi: n * faktorial dari (n-1)\n",
        "        return n * faktorial(n - 1)\n",
        "\n",
        "# Meminta input dari pengguna\n",
        "angka = int(input(\"Masukkan angka untuk menghitung faktorial: \"))\n",
        "\n",
        "# Memastikan input adalah angka non-negatif\n",
        "if angka < 0:\n",
        "    print(\"Faktorial tidak terdefinisi untuk angka negatif.\")\n",
        "else:\n",
        "    hasil = faktorial(angka)\n",
        "    print(f\"Faktorial dari {angka} adalah {hasil}.\")"
      ]
    },
    {
      "cell_type": "markdown",
      "source": [
        "Program untuk menerima input nilai ke dalam list dan menampilkan nilai tertinggi serta siswa ke berapa yang mendapatkannya."
      ],
      "metadata": {
        "id": "B_ISg-NZFPuQ"
      }
    },
    {
      "cell_type": "code",
      "source": [
        "# Fungsi untuk menerima input nilai siswa\n",
        "def input_nilai():\n",
        "    nilai = []\n",
        "    jumlah_siswa = int(input(\"Masukkan jumlah siswa: \"))\n",
        "\n",
        "    for i in range(jumlah_siswa):\n",
        "        nilai_siswa = float(input(f\"Masukkan nilai siswa ke-{i + 1}: \"))\n",
        "        nilai.append(nilai_siswa)\n",
        "\n",
        "    return nilai\n",
        "\n",
        "# Fungsi untuk mencari nilai tertinggi dan indeksnya\n",
        "def nilai_tertinggi(nilai):\n",
        "    if not nilai:\n",
        "        return None, None  # Menghindari error jika list kosong\n",
        "\n",
        "    tertinggi = max(nilai)\n",
        "    indeks = nilai.index(tertinggi) + 1  # Menambahkan 1 untuk indeks siswa (dimulai dari 1)\n",
        "\n",
        "    return tertinggi, indeks\n",
        "\n",
        "# Main program\n",
        "nilai_siswa = input_nilai()\n",
        "tertinggi, indeks = nilai_tertinggi(nilai_siswa)\n",
        "\n",
        "if tertinggi is not None:\n",
        "    print(f\"Nilai tertinggi adalah {tertinggi} dan siswa ke-{indeks} yang terbesar.\")\n",
        "else:\n",
        "    print(\"Tidak ada nilai yang dimasukkan.\")"
      ],
      "metadata": {
        "colab": {
          "base_uri": "https://localhost:8080/"
        },
        "id": "JUpi1QIlFGLt",
        "outputId": "9950ab3f-1256-4b42-f730-9e78832bd1e9"
      },
      "execution_count": 8,
      "outputs": [
        {
          "output_type": "stream",
          "name": "stdout",
          "text": [
            "Masukkan jumlah siswa: 4\n",
            "Masukkan nilai siswa ke-1: 78\n",
            "Masukkan nilai siswa ke-2: 87\n",
            "Masukkan nilai siswa ke-3: 97\n",
            "Masukkan nilai siswa ke-4: 99\n",
            "Nilai tertinggi adalah 99.0 dan siswa ke-4 yang terbesar.\n"
          ]
        }
      ]
    },
    {
      "cell_type": "markdown",
      "source": [
        "Program yang menghitung total bayar setelah diskon jika syarat terpenuhi"
      ],
      "metadata": {
        "id": "52DE4Q8jHP85"
      }
    },
    {
      "cell_type": "code",
      "source": [
        "def hitung_total_bayar(harga, jumlah):\n",
        "    total = harga * jumlah\n",
        "    if total >= 500000:\n",
        "        diskon = total * 0.10\n",
        "        total_bayar = total - diskon\n",
        "    else:\n",
        "        total_bayar = total\n",
        "    return total_bayar\n",
        "\n",
        "def main():\n",
        "    harga = float(input(\"Masukkan harga satuan: \"))\n",
        "    jumlah = int(input(\"Masukkan jumlah barang: \"))\n",
        "    total_bayar = hitung_total_bayar(harga, jumlah)\n",
        "    print(f\"Total bayar setelah diskon (jika berlaku): Rp {total_bayar:,.2f}\")\n",
        "\n",
        "if __name__ == \"__main__\":\n",
        "    main()"
      ],
      "metadata": {
        "colab": {
          "base_uri": "https://localhost:8080/"
        },
        "id": "6aC4CeCvF2Ov",
        "outputId": "10a7e8ac-94f5-4288-e221-a4bb581c4f6d"
      },
      "execution_count": 11,
      "outputs": [
        {
          "output_type": "stream",
          "name": "stdout",
          "text": [
            "Masukkan harga satuan: 1000000\n",
            "Masukkan jumlah barang: 2\n",
            "Total bayar setelah diskon (jika berlaku): Rp 1,800,000.00\n"
          ]
        }
      ]
    }
  ]
}
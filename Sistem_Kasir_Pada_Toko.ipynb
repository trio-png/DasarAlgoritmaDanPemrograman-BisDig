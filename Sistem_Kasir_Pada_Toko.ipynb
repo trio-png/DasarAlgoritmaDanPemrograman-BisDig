{
  "nbformat": 4,
  "nbformat_minor": 0,
  "metadata": {
    "colab": {
      "provenance": [],
      "authorship_tag": "ABX9TyNAZRIAahZq2vDuDN+BCvo0",
      "include_colab_link": true
    },
    "kernelspec": {
      "name": "python3",
      "display_name": "Python 3"
    },
    "language_info": {
      "name": "python"
    }
  },
  "cells": [
    {
      "cell_type": "markdown",
      "metadata": {
        "id": "view-in-github",
        "colab_type": "text"
      },
      "source": [
        "<a href=\"https://colab.research.google.com/github/trio-png/DasarAlgoritmaDanPemrograman-BisDig/blob/main/Sistem_Kasir_Pada_Toko.ipynb\" target=\"_parent\"><img src=\"https://colab.research.google.com/assets/colab-badge.svg\" alt=\"Open In Colab\"/></a>"
      ]
    },
    {
      "cell_type": "code",
      "execution_count": 1,
      "metadata": {
        "colab": {
          "base_uri": "https://localhost:8080/"
        },
        "id": "dHN62Lw6-T1A",
        "outputId": "2c1e1b9a-49a9-43d7-f119-287b37032377"
      },
      "outputs": [
        {
          "output_type": "stream",
          "name": "stdout",
          "text": [
            "Masukkan harga barang 1: 3000\n",
            "Masukkan harga barang 2: 5000\n",
            "Masukkan harga barang 3: 9000\n",
            "Total pembayaran adalah: 17000.0\n"
          ]
        }
      ],
      "source": [
        "# Meminta input harga dari 3 barang\n",
        "harga_barang1 = float(input(\"Masukkan harga barang 1: \"))\n",
        "harga_barang2 = float(input(\"Masukkan harga barang 2: \"))\n",
        "harga_barang3 = float(input(\"Masukkan harga barang 3: \"))\n",
        "\n",
        "# Menghitung total pembayaran\n",
        "total_pembayaran = harga_barang1 + harga_barang2 + harga_barang3\n",
        "\n",
        "# Menampilkan total pembayaran\n",
        "print(f\"Total pembayaran adalah: {total_pembayaran}\")"
      ]
    }
  ]
}
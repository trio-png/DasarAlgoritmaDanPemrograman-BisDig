{
  "nbformat": 4,
  "nbformat_minor": 0,
  "metadata": {
    "colab": {
      "provenance": [],
      "authorship_tag": "ABX9TyOA37isuvxCEX4wbcYHV0Sw",
      "include_colab_link": true
    },
    "kernelspec": {
      "name": "python3",
      "display_name": "Python 3"
    },
    "language_info": {
      "name": "python"
    }
  },
  "cells": [
    {
      "cell_type": "markdown",
      "metadata": {
        "id": "view-in-github",
        "colab_type": "text"
      },
      "source": [
        "<a href=\"https://colab.research.google.com/github/trio-png/DasarAlgoritmaDanPemrograman-BisDig/blob/main/24110310085_Trio_Rizkinugraha_UTS_2A_BISDIG.ipynb\" target=\"_parent\"><img src=\"https://colab.research.google.com/assets/colab-badge.svg\" alt=\"Open In Colab\"/></a>"
      ]
    },
    {
      "cell_type": "markdown",
      "source": [
        "Menghitung Faktorial Dengan Metode Rekursif."
      ],
      "metadata": {
        "id": "8_zfClmi8Tmh"
      }
    },
    {
      "cell_type": "code",
      "execution_count": null,
      "metadata": {
        "colab": {
          "base_uri": "https://localhost:8080/"
        },
        "id": "kID-vCro8PaE",
        "outputId": "cb4621e8-3382-41f8-f214-f5ef097f8c43"
      },
      "outputs": [
        {
          "output_type": "stream",
          "name": "stdout",
          "text": [
            "Masukkan angka untuk menghitung faktorial: 5\n",
            "Faktorial dari 5 adalah 120.\n"
          ]
        }
      ],
      "source": [
        "def faktorial(n):\n",
        "    # Basis kasus: faktorial dari 0 atau 1 adalah 1\n",
        "    if n == 0 or n == 1:\n",
        "        return 1\n",
        "    else:\n",
        "        # Rekursi: n * faktorial dari (n-1)\n",
        "        return n * faktorial(n - 1)\n",
        "\n",
        "# Meminta input dari pengguna\n",
        "angka = int(input(\"Masukkan angka untuk menghitung faktorial: \"))\n",
        "\n",
        "# Memastikan input adalah angka non-negatif\n",
        "if angka < 0:\n",
        "    print(\"Faktorial tidak terdefinisi untuk angka negatif.\")\n",
        "else:\n",
        "    hasil = faktorial(angka)\n",
        "    print(f\"Faktorial dari {angka} adalah {hasil}.\")"
      ]
    },
    {
      "cell_type": "markdown",
      "source": [
        "Sistem Input Nilai Dengan Menggunakan Perulangan Dan Array."
      ],
      "metadata": {
        "id": "B_ISg-NZFPuQ"
      }
    },
    {
      "cell_type": "code",
      "source": [
        "# Fungsi untuk menerima input nilai siswa\n",
        "def input_nilai():\n",
        "    nilai = []\n",
        "    jumlah_siswa = int(input(\"Masukkan jumlah siswa: \"))\n",
        "\n",
        "    for i in range(jumlah_siswa):\n",
        "        nilai_siswa = float(input(f\"Masukkan nilai siswa ke-{i + 1}: \"))\n",
        "        nilai.append(nilai_siswa)\n",
        "\n",
        "    return nilai\n",
        "\n",
        "# Fungsi untuk mencari nilai tertinggi dan indeksnya\n",
        "def nilai_tertinggi(nilai):\n",
        "    if not nilai:\n",
        "        return None, None  # Menghindari error jika list kosong\n",
        "\n",
        "    tertinggi = max(nilai)\n",
        "    indeks = nilai.index(tertinggi) + 1  # Menambahkan 1 untuk indeks siswa (dimulai dari 1)\n",
        "\n",
        "    return tertinggi, indeks\n",
        "\n",
        "# Main program\n",
        "nilai_siswa = input_nilai()\n",
        "tertinggi, indeks = nilai_tertinggi(nilai_siswa)\n",
        "\n",
        "if tertinggi is not None:\n",
        "    print(f\"Nilai tertinggi adalah {tertinggi} dan siswa ke-{indeks} yang terbesar.\")\n",
        "else:\n",
        "    print(\"Tidak ada nilai yang dimasukkan.\")"
      ],
      "metadata": {
        "colab": {
          "base_uri": "https://localhost:8080/"
        },
        "id": "JUpi1QIlFGLt",
        "outputId": "9950ab3f-1256-4b42-f730-9e78832bd1e9"
      },
      "execution_count": null,
      "outputs": [
        {
          "output_type": "stream",
          "name": "stdout",
          "text": [
            "Masukkan jumlah siswa: 4\n",
            "Masukkan nilai siswa ke-1: 78\n",
            "Masukkan nilai siswa ke-2: 87\n",
            "Masukkan nilai siswa ke-3: 97\n",
            "Masukkan nilai siswa ke-4: 99\n",
            "Nilai tertinggi adalah 99.0 dan siswa ke-4 yang terbesar.\n"
          ]
        }
      ]
    },
    {
      "cell_type": "markdown",
      "source": [
        "Sistem Menghitung Diskon Dengan Metode Kontrol Percabangan."
      ],
      "metadata": {
        "id": "52DE4Q8jHP85"
      }
    },
    {
      "cell_type": "code",
      "source": [
        "def hitung_total_bayar(harga, jumlah):\n",
        "    total = harga * jumlah\n",
        "    if total >= 500000:\n",
        "        diskon = total * 0.10\n",
        "        total_bayar = total - diskon\n",
        "    else:\n",
        "        total_bayar = total\n",
        "    return total_bayar\n",
        "\n",
        "def main():\n",
        "    harga = float(input(\"Masukkan harga satuan: \"))\n",
        "    jumlah = int(input(\"Masukkan jumlah barang: \"))\n",
        "    total_bayar = hitung_total_bayar(harga, jumlah)\n",
        "    print(f\"Total bayar setelah diskon (jika berlaku): Rp {total_bayar:,.2f}\")\n",
        "\n",
        "if __name__ == \"__main__\":\n",
        "    main()"
      ],
      "metadata": {
        "colab": {
          "base_uri": "https://localhost:8080/"
        },
        "id": "6aC4CeCvF2Ov",
        "outputId": "10a7e8ac-94f5-4288-e221-a4bb581c4f6d"
      },
      "execution_count": null,
      "outputs": [
        {
          "output_type": "stream",
          "name": "stdout",
          "text": [
            "Masukkan harga satuan: 1000000\n",
            "Masukkan jumlah barang: 2\n",
            "Total bayar setelah diskon (jika berlaku): Rp 1,800,000.00\n"
          ]
        }
      ]
    },
    {
      "cell_type": "markdown",
      "source": [
        "Sistem Kasir Pada Toko"
      ],
      "metadata": {
        "id": "5vq9OOsFk7xQ"
      }
    },
    {
      "cell_type": "code",
      "source": [
        "# Meminta input harga dari 3 barang\n",
        "harga_barang1 = float(input(\"Masukkan harga barang 1: \"))\n",
        "harga_barang2 = float(input(\"Masukkan harga barang 2: \"))\n",
        "harga_barang3 = float(input(\"Masukkan harga barang 3: \"))\n",
        "\n",
        "# Menghitung total pembayaran\n",
        "total_pembayaran = harga_barang1 + harga_barang2 + harga_barang3\n",
        "\n",
        "# Menampilkan total pembayaran\n",
        "print(f\"Total pembayaran adalah: {total_pembayaran}\")"
      ],
      "metadata": {
        "colab": {
          "base_uri": "https://localhost:8080/"
        },
        "id": "SvVw4g40lMHF",
        "outputId": "e200bfb8-b9c3-4408-aea2-d2f4e8c3da1d"
      },
      "execution_count": 1,
      "outputs": [
        {
          "output_type": "stream",
          "name": "stdout",
          "text": [
            "Masukkan harga barang 1: 3000\n",
            "Masukkan harga barang 2: 5000\n",
            "Masukkan harga barang 3: 9000\n",
            "Total pembayaran adalah: 17000.0\n"
          ]
        }
      ]
    },
    {
      "cell_type": "markdown",
      "source": [
        "Sistem Membuat Rata Rata Untuk Nilai Kelulusan."
      ],
      "metadata": {
        "id": "66T8m8v8ljIF"
      }
    },
    {
      "cell_type": "code",
      "source": [
        "# Program untuk menghitung rata-rata dan status kelulusan\n",
        "\n",
        "# Input jumlah nilai\n",
        "jumlah_nilai = int(input(\"Masukkan jumlah nilai: \"))\n",
        "\n",
        "# Inisialisasi list untuk menampung nilai\n",
        "nilai_list = []\n",
        "\n",
        "# Input nilai-nilai\n",
        "for i in range(jumlah_nilai):\n",
        "    nilai = float(input(f\"Masukkan nilai ke-{i+1}: \"))\n",
        "    nilai_list.append(nilai)\n",
        "\n",
        "# Hitung rata-rata\n",
        "rata_rata = sum(nilai_list) / jumlah_nilai\n",
        "\n",
        "# Tampilkan rata-rata\n",
        "print(f\"Rata-rata nilai: {rata_rata:.2f}\")\n",
        "\n",
        "# Tentukan status kelulusan\n",
        "if rata_rata >= 75:\n",
        "    print(\"Status: LULUS\")\n",
        "else:\n",
        "    print(\"Status: TIDAK LULUS\")"
      ],
      "metadata": {
        "colab": {
          "base_uri": "https://localhost:8080/"
        },
        "id": "ImSluN0dl7wv",
        "outputId": "4ad3173c-5f72-45d7-f208-3552ed7097eb"
      },
      "execution_count": 3,
      "outputs": [
        {
          "output_type": "stream",
          "name": "stdout",
          "text": [
            "Masukkan jumlah nilai: 3\n",
            "Masukkan nilai ke-1: 90\n",
            "Masukkan nilai ke-2: 68\n",
            "Masukkan nilai ke-3: 88\n",
            "Rata-rata nilai: 82.00\n",
            "Status: LULUS\n"
          ]
        }
      ]
    }
  ]
}
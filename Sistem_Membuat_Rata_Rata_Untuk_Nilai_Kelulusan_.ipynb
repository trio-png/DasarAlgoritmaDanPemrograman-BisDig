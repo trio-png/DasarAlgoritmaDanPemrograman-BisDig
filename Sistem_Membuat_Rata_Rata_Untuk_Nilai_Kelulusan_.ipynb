{
  "nbformat": 4,
  "nbformat_minor": 0,
  "metadata": {
    "colab": {
      "provenance": [],
      "authorship_tag": "ABX9TyPsTxPqjrgIczhHEQXsipOR",
      "include_colab_link": true
    },
    "kernelspec": {
      "name": "python3",
      "display_name": "Python 3"
    },
    "language_info": {
      "name": "python"
    }
  },
  "cells": [
    {
      "cell_type": "markdown",
      "metadata": {
        "id": "view-in-github",
        "colab_type": "text"
      },
      "source": [
        "<a href=\"https://colab.research.google.com/github/trio-png/DasarAlgoritmaDanPemrograman-BisDig/blob/main/Sistem_Membuat_Rata_Rata_Untuk_Nilai_Kelulusan_.ipynb\" target=\"_parent\"><img src=\"https://colab.research.google.com/assets/colab-badge.svg\" alt=\"Open In Colab\"/></a>"
      ]
    },
    {
      "cell_type": "code",
      "execution_count": 1,
      "metadata": {
        "colab": {
          "base_uri": "https://localhost:8080/"
        },
        "id": "ytllJZff-xEy",
        "outputId": "3a983c3e-096c-4b1c-c845-27bcc94f83de"
      },
      "outputs": [
        {
          "output_type": "stream",
          "name": "stdout",
          "text": [
            "Masukkan jumlah nilai: 3\n",
            "Masukkan nilai ke-1: 90\n",
            "Masukkan nilai ke-2: 68\n",
            "Masukkan nilai ke-3: 88\n",
            "Rata-rata nilai: 82.00\n",
            "Status: LULUS\n"
          ]
        }
      ],
      "source": [
        "# Program untuk menghitung rata-rata dan status kelulusan\n",
        "\n",
        "# Input jumlah nilai\n",
        "jumlah_nilai = int(input(\"Masukkan jumlah nilai: \"))\n",
        "\n",
        "# Inisialisasi list untuk menampung nilai\n",
        "nilai_list = []\n",
        "\n",
        "# Input nilai-nilai\n",
        "for i in range(jumlah_nilai):\n",
        "    nilai = float(input(f\"Masukkan nilai ke-{i+1}: \"))\n",
        "    nilai_list.append(nilai)\n",
        "\n",
        "# Hitung rata-rata\n",
        "rata_rata = sum(nilai_list) / jumlah_nilai\n",
        "\n",
        "# Tampilkan rata-rata\n",
        "print(f\"Rata-rata nilai: {rata_rata:.2f}\")\n",
        "\n",
        "# Tentukan status kelulusan\n",
        "if rata_rata >= 75:\n",
        "    print(\"Status: LULUS\")\n",
        "else:\n",
        "    print(\"Status: TIDAK LULUS\")"
      ]
    }
  ]
}